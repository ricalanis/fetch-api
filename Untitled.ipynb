{
 "cells": [
  {
   "cell_type": "code",
   "execution_count": 59,
   "metadata": {
    "collapsed": false
   },
   "outputs": [
    {
     "data": {
      "text/plain": [
       "'Success'"
      ]
     },
     "execution_count": 59,
     "metadata": {},
     "output_type": "execute_result"
    }
   ],
   "source": [
    "from pymongo import MongoClient, GEOSPHERE\n",
    "import uuid\n",
    "import hashlib\n",
    "\n",
    "client = MongoClient()\n",
    "db = client.test\n",
    "db.test_fetch.ensure_index([(\"location\", GEOSPHERE)])\n",
    "\n",
    "#Obtenido de: http://pythoncentral.io/hashing-strings-with-python/\n",
    "def hash_password(password):\n",
    "    # uuid is used to generate a random number\n",
    "    salt = uuid.uuid4().hex\n",
    "    return hashlib.sha256(salt.encode() + password.encode()).hexdigest() + ':' + salt\n",
    "\n",
    "def return_geopoint(longitude, latitude):\n",
    "    geopoint = {\n",
    "        \"type\" : \"Point\",\n",
    "        \"coordinates\" : [ float(longitude), float(latitude) ]\n",
    "    }\n",
    "    return geopoint\n",
    "\n",
    "def has_password(password):\n",
    "    has = 0\n",
    "    if password is not \"\":\n",
    "        has= 1\n",
    "    return has\n",
    "\n",
    "def build_object_dictionary(name, description, link, crude_password, longitude, latitude):\n",
    "    has_pwd = has_password(crude_password)\n",
    "    object_dictionary = {\n",
    "    \"name\": name,\n",
    "    \"description\": description,\n",
    "    \"link\":link,\n",
    "    \"has_password\" : has_pwd,\n",
    "    \"password\": hash_password(crude_password),\n",
    "    \"location\": return_geopoint(longitude,latitude)\n",
    "    }\n",
    "    return object_dictionary\n",
    "\n",
    "def create_dummy_objects():\n",
    "    db.test_fetch.insert_one(build_object_dictionary(\"Pokemon Red\", \"best game evuuuur\", \"http://pokemon-stats.com/descargas/pokemon_rojo.zip\", \"rojo\", \"-100.2952296\",\"25.648925\"))\n",
    "    db.test_fetch.insert_one(build_object_dictionary(\"Pokemon Azul\", \"best game evuuuur x 2\", \"http://pokemon-stats.com/descargas/pokemon_azul.zip\", \"azul\",\"-100.2937973\",\"25.6483229\"))\n",
    "    db.test_fetch.insert_one(build_object_dictionary(\"Pokemon Amarillo\", \"best game evuuuur x 3\", \"http://pokemon-stats.com/descargas/pokemon_amarillo.zip\", \"amarillo\",\"-100.2929175\",\"25.6494883\"))\n",
    "    db.test_fetch.insert_one(build_object_dictionary(\"Pokemon Dorado\", \"best game evuuuur x 4\", \"http://pokemon-stats.com/descargas/pokemon_dorado.zip\", \"Dorado\",\"-100.2921451\",\"25.6506393\"))\n",
    "    db.test_fetch.insert_one(build_object_dictionary(\"Pokemon Plata\", \"best game evuuuur x 5\", \"http://pokemon-stats.com/descargas/pokemon_plata.zip\", \"Plata\",\"-100.2887118\",\"25.6315655\"))\n",
    "    return \"Success\"\n",
    "\n",
    "\n",
    "create_dummy_objects()\n",
    "\n"
   ]
  },
  {
   "cell_type": "code",
   "execution_count": 32,
   "metadata": {
    "collapsed": false
   },
   "outputs": [
    {
     "ename": "OperationFailure",
     "evalue": "database error: Unable to execute query: error processing query: ns=test.test_fetch limit=3 skip=0\nTree: GEONEAR  field=location maxdist=1.79769e+308 isNearSphere=0\nSort: {}\nProj: {}\n planner returned error: unable to find index for $geoNear query",
     "output_type": "error",
     "traceback": [
      "\u001b[0;31m---------------------------------------------------------------------------\u001b[0m",
      "\u001b[0;31mOperationFailure\u001b[0m                          Traceback (most recent call last)",
      "\u001b[0;32m<ipython-input-32-fd8a39f49d8e>\u001b[0m in \u001b[0;36m<module>\u001b[0;34m()\u001b[0m\n\u001b[0;32m----> 1\u001b[0;31m \u001b[0;32mfor\u001b[0m \u001b[0mdoc\u001b[0m \u001b[0;32min\u001b[0m \u001b[0mdb\u001b[0m\u001b[0;34m.\u001b[0m\u001b[0mtest_fetch\u001b[0m\u001b[0;34m.\u001b[0m\u001b[0mfind\u001b[0m\u001b[0;34m(\u001b[0m\u001b[0;34m{\u001b[0m\u001b[0;34m\"location\"\u001b[0m\u001b[0;34m:\u001b[0m \u001b[0;34m{\u001b[0m\u001b[0;34m\"$near\"\u001b[0m\u001b[0;34m:\u001b[0m \u001b[0;34m[\u001b[0m\u001b[0;34m-\u001b[0m\u001b[0;36m100.2952296\u001b[0m\u001b[0;34m,\u001b[0m \u001b[0;36m25.648925\u001b[0m\u001b[0;34m]\u001b[0m\u001b[0;34m}\u001b[0m\u001b[0;34m}\u001b[0m\u001b[0;34m)\u001b[0m\u001b[0;34m.\u001b[0m\u001b[0mlimit\u001b[0m\u001b[0;34m(\u001b[0m\u001b[0;36m3\u001b[0m\u001b[0;34m)\u001b[0m\u001b[0;34m:\u001b[0m\u001b[0;34m\u001b[0m\u001b[0m\n\u001b[0m\u001b[1;32m      2\u001b[0m     \u001b[0mrepr\u001b[0m\u001b[0;34m(\u001b[0m\u001b[0mdoc\u001b[0m\u001b[0;34m)\u001b[0m\u001b[0;34m\u001b[0m\u001b[0m\n",
      "\u001b[0;32m/usr/local/lib/python3.4/site-packages/pymongo/cursor.py\u001b[0m in \u001b[0;36m__next__\u001b[0;34m(self)\u001b[0m\n\u001b[1;32m   1147\u001b[0m             \u001b[0;32mraise\u001b[0m \u001b[0mStopIteration\u001b[0m\u001b[0;34m\u001b[0m\u001b[0m\n\u001b[1;32m   1148\u001b[0m         \u001b[0mdb\u001b[0m \u001b[0;34m=\u001b[0m \u001b[0mself\u001b[0m\u001b[0;34m.\u001b[0m\u001b[0m__collection\u001b[0m\u001b[0;34m.\u001b[0m\u001b[0mdatabase\u001b[0m\u001b[0;34m\u001b[0m\u001b[0m\n\u001b[0;32m-> 1149\u001b[0;31m         \u001b[0;32mif\u001b[0m \u001b[0mlen\u001b[0m\u001b[0;34m(\u001b[0m\u001b[0mself\u001b[0m\u001b[0;34m.\u001b[0m\u001b[0m__data\u001b[0m\u001b[0;34m)\u001b[0m \u001b[0;32mor\u001b[0m \u001b[0mself\u001b[0m\u001b[0;34m.\u001b[0m\u001b[0m_refresh\u001b[0m\u001b[0;34m(\u001b[0m\u001b[0;34m)\u001b[0m\u001b[0;34m:\u001b[0m\u001b[0;34m\u001b[0m\u001b[0m\n\u001b[0m\u001b[1;32m   1150\u001b[0m             \u001b[0;32mif\u001b[0m \u001b[0mself\u001b[0m\u001b[0;34m.\u001b[0m\u001b[0m__manipulate\u001b[0m\u001b[0;34m:\u001b[0m\u001b[0;34m\u001b[0m\u001b[0m\n\u001b[1;32m   1151\u001b[0m                 return db._fix_outgoing(self.__data.popleft(),\n",
      "\u001b[0;32m/usr/local/lib/python3.4/site-packages/pymongo/cursor.py\u001b[0m in \u001b[0;36m_refresh\u001b[0;34m(self)\u001b[0m\n\u001b[1;32m   1079\u001b[0m                               \u001b[0mself\u001b[0m\u001b[0;34m.\u001b[0m\u001b[0m__skip\u001b[0m\u001b[0;34m,\u001b[0m \u001b[0mntoreturn\u001b[0m\u001b[0;34m,\u001b[0m\u001b[0;34m\u001b[0m\u001b[0m\n\u001b[1;32m   1080\u001b[0m                               \u001b[0mself\u001b[0m\u001b[0;34m.\u001b[0m\u001b[0m__query_spec\u001b[0m\u001b[0;34m(\u001b[0m\u001b[0;34m)\u001b[0m\u001b[0;34m,\u001b[0m \u001b[0mself\u001b[0m\u001b[0;34m.\u001b[0m\u001b[0m__fields\u001b[0m\u001b[0;34m,\u001b[0m\u001b[0;34m\u001b[0m\u001b[0m\n\u001b[0;32m-> 1081\u001b[0;31m                               self.__codec_options.uuid_representation))\n\u001b[0m\u001b[1;32m   1082\u001b[0m             \u001b[0;32mif\u001b[0m \u001b[0;32mnot\u001b[0m \u001b[0mself\u001b[0m\u001b[0;34m.\u001b[0m\u001b[0m__id\u001b[0m\u001b[0;34m:\u001b[0m\u001b[0;34m\u001b[0m\u001b[0m\n\u001b[1;32m   1083\u001b[0m                 \u001b[0mself\u001b[0m\u001b[0;34m.\u001b[0m\u001b[0m__killed\u001b[0m \u001b[0;34m=\u001b[0m \u001b[0;32mTrue\u001b[0m\u001b[0;34m\u001b[0m\u001b[0m\n",
      "\u001b[0;32m/usr/local/lib/python3.4/site-packages/pymongo/cursor.py\u001b[0m in \u001b[0;36m__send_message\u001b[0;34m(self, message)\u001b[0m\n\u001b[1;32m   1021\u001b[0m                 \u001b[0mself\u001b[0m\u001b[0;34m.\u001b[0m\u001b[0m__codec_options\u001b[0m\u001b[0;34m.\u001b[0m\u001b[0mtz_aware\u001b[0m\u001b[0;34m,\u001b[0m\u001b[0;34m\u001b[0m\u001b[0m\n\u001b[1;32m   1022\u001b[0m                 \u001b[0mself\u001b[0m\u001b[0;34m.\u001b[0m\u001b[0m__codec_options\u001b[0m\u001b[0;34m.\u001b[0m\u001b[0muuid_representation\u001b[0m\u001b[0;34m,\u001b[0m\u001b[0;34m\u001b[0m\u001b[0m\n\u001b[0;32m-> 1023\u001b[0;31m                 self.__compile_re)\n\u001b[0m\u001b[1;32m   1024\u001b[0m         \u001b[0;32mexcept\u001b[0m \u001b[0mOperationFailure\u001b[0m\u001b[0;34m:\u001b[0m\u001b[0;34m\u001b[0m\u001b[0m\n\u001b[1;32m   1025\u001b[0m             \u001b[0mself\u001b[0m\u001b[0;34m.\u001b[0m\u001b[0m__killed\u001b[0m \u001b[0;34m=\u001b[0m \u001b[0;32mTrue\u001b[0m\u001b[0;34m\u001b[0m\u001b[0m\n",
      "\u001b[0;32m/usr/local/lib/python3.4/site-packages/pymongo/helpers.py\u001b[0m in \u001b[0;36m_unpack_response\u001b[0;34m(response, cursor_id, as_class, tz_aware, uuid_subtype, compile_re)\u001b[0m\n\u001b[1;32m    142\u001b[0m                                \u001b[0merror_object\u001b[0m\u001b[0;34m.\u001b[0m\u001b[0mget\u001b[0m\u001b[0;34m(\u001b[0m\u001b[0;34m\"$err\"\u001b[0m\u001b[0;34m)\u001b[0m\u001b[0;34m,\u001b[0m\u001b[0;34m\u001b[0m\u001b[0m\n\u001b[1;32m    143\u001b[0m                                \u001b[0merror_object\u001b[0m\u001b[0;34m.\u001b[0m\u001b[0mget\u001b[0m\u001b[0;34m(\u001b[0m\u001b[0;34m\"code\"\u001b[0m\u001b[0;34m)\u001b[0m\u001b[0;34m,\u001b[0m\u001b[0;34m\u001b[0m\u001b[0m\n\u001b[0;32m--> 144\u001b[0;31m                                error_object)\n\u001b[0m\u001b[1;32m    145\u001b[0m \u001b[0;34m\u001b[0m\u001b[0m\n\u001b[1;32m    146\u001b[0m     \u001b[0mresult\u001b[0m \u001b[0;34m=\u001b[0m \u001b[0;34m{\u001b[0m\u001b[0;34m}\u001b[0m\u001b[0;34m\u001b[0m\u001b[0m\n",
      "\u001b[0;31mOperationFailure\u001b[0m: database error: Unable to execute query: error processing query: ns=test.test_fetch limit=3 skip=0\nTree: GEONEAR  field=location maxdist=1.79769e+308 isNearSphere=0\nSort: {}\nProj: {}\n planner returned error: unable to find index for $geoNear query"
     ]
    }
   ],
   "source": [
    "\n",
    "\n",
    "    doc"
   ]
  },
  {
   "cell_type": "code",
   "execution_count": 48,
   "metadata": {
    "collapsed": false
   },
   "outputs": [
    {
     "name": "stdout",
     "output_type": "stream",
     "text": [
      "[{'link': 'http://pokemon-stats.com/descargas/pokemon_rojo.zip', 'description': 'best game evuuuur', 'password': '2f0ae283d4ff89bfc69972260954c3a2ee4f4d8392edddcb715e68e08576d8b3:bea5b020e65444e195a4c71b210b8130', '_id': ObjectId('56ac50e4e235bb2e2955ba9c'), 'name': 'Pokemon Red', 'location': {'type': 'Point', 'coordinates': [-100.2952296, 25.648925]}}, {'link': 'http://pokemon-stats.com/descargas/pokemon_azul.zip', 'description': 'best game evuuuur x 2', 'password': '6824e7b7b6162e76a3f3d7c8249023e2f00cdba7db74f8ccb9a463a6df4e2bec:4b4dc5cf48e444138e8007d0a2ee0bc5', '_id': ObjectId('56ac50e4e235bb2e2955ba9d'), 'name': 'Pokemon Azul', 'location': {'type': 'Point', 'coordinates': [-100.2937973, 25.6483229]}}, {'link': 'http://pokemon-stats.com/descargas/pokemon_amarillo.zip', 'description': 'best game evuuuur x 3', 'password': '67973f196c172f597c7ca7625288d654d259b55aaa8aa3ea4ae32b89e9975aab:ff6cfef882e84f838effc4a2d7578d08', '_id': ObjectId('56ac50e4e235bb2e2955ba9e'), 'name': 'Pokemon Amarillo', 'location': {'type': 'Point', 'coordinates': [-100.2929175, 25.6494883]}}, {'link': 'http://pokemon-stats.com/descargas/pokemon_dorado.zip', 'description': 'best game evuuuur x 4', 'password': '07ed1b3445b566b3874556691c0dc3539b2b2736c302cc7f00839a849818474f:f9e85289ed8645988e9d7c5b27e88ead', '_id': ObjectId('56ac50e4e235bb2e2955ba9f'), 'name': 'Pokemon Dorado', 'location': {'type': 'Point', 'coordinates': [-100.2921451, 25.6506393]}}, {'link': 'http://pokemon-stats.com/descargas/pokemon_plata.zip', 'description': 'best game evuuuur x 5', 'password': '7b967259a543e0bce3906da4afd49a1812e89babd8e678f11dc8760f9185fa62:7540ffc8d7e74578b733d5b2f20dd532', '_id': ObjectId('56ac50e4e235bb2e2955baa0'), 'name': 'Pokemon Plata', 'location': {'type': 'Point', 'coordinates': [-100.2887118, 25.6315655]}}]\n"
     ]
    }
   ],
   "source": [
    "\n",
    "\n",
    "latitude = 25.648925\n",
    "longitude = -100.2952296\n",
    "max_distance = 5000.2 #meters    \n",
    "\n",
    "query = {'location': {'$near': SON([('$geometry', SON([('type', 'Point'), ('coordinates', [longitude, latitude])])), ('$maxDistance', max_distance)])}}\n",
    "\n",
    "response = []\n",
    "for doc in db.test_fetch.find(query):\n",
    "    response.append(doc)\n",
    "print(response)"
   ]
  },
  {
   "cell_type": "code",
   "execution_count": null,
   "metadata": {
    "collapsed": true
   },
   "outputs": [],
   "source": []
  },
  {
   "cell_type": "code",
   "execution_count": null,
   "metadata": {
    "collapsed": true
   },
   "outputs": [],
   "source": []
  }
 ],
 "metadata": {
  "kernelspec": {
   "display_name": "Python 3",
   "language": "python",
   "name": "python3"
  },
  "language_info": {
   "codemirror_mode": {
    "name": "ipython",
    "version": 3
   },
   "file_extension": ".py",
   "mimetype": "text/x-python",
   "name": "python",
   "nbconvert_exporter": "python",
   "pygments_lexer": "ipython3",
   "version": "3.4.1"
  }
 },
 "nbformat": 4,
 "nbformat_minor": 0
}
